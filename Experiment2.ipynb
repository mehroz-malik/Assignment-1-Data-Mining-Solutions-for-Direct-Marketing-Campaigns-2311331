{
 "cells": [
  {
   "cell_type": "markdown",
   "id": "669a59",
   "metadata": {
    "collapsed": false
   },
   "source": [
    "# Experiment 2: Handling Class Imbalance\n",
    "\n"
   ]
  },
  {
   "cell_type": "code",
   "execution_count": 1,
   "id": "5ba3ea",
   "metadata": {
    "collapsed": false,
    "scrolled": true
   },
   "outputs": [
    {
     "data": {
      "text/html": [
       "0"
      ],
      "text/latex": [
       "0"
      ],
      "text/markdown": [
       "0"
      ],
      "text/plain": [
       "[1] 0"
      ]
     },
     "execution_count": 1,
     "metadata": {
     },
     "output_type": "execute_result"
    },
    {
     "data": {
      "text/plain": [
       "\n",
       "   no   yes \n",
       "36548  4640 "
      ]
     },
     "execution_count": 1,
     "metadata": {
     },
     "output_type": "execute_result"
    }
   ],
   "source": [
    "# Importing and Prerocessing Data\n",
    "bank_data <- read.csv(\"bank-additional.csv\", sep = \";\")\n",
    "\n",
    "bank_data$y <- as.factor(bank_data$y)\n",
    "null_count <- sum(is.na(bank_data))\n",
    "if (null_count > 0) {\n",
    "  print(\"Null values found in the dataset.\")\n",
    "  print(colSums(is.na(bank_data)))\n",
    " \n",
    "  bank_data <- na.omit(bank_data)\n",
    "}\n",
    "table(bank_data$y)\n",
    "\n",
    "set.seed(123)\n",
    "A <- sort(sample(nrow(bank_data), nrow(bank_data) * 0.8))\n",
    "Train <- bank_data[A, ]\n",
    "Val <- bank_data[-A, ]"
   ]
  },
  {
   "cell_type": "code",
   "execution_count": 7,
   "id": "ecd5ad",
   "metadata": {
    "collapsed": false
   },
   "outputs": [
   ],
   "source": [
    "# Address class imbalance using class weights\n",
    "class_weights <- ifelse(Train$y == \"yes\", 5, 1)"
   ]
  },
  {
   "cell_type": "code",
   "execution_count": 8,
   "id": "191fb8",
   "metadata": {
    "collapsed": false
   },
   "outputs": [
   ],
   "source": [
    "# Building the model  \n",
    "library(rpart)\n",
    "tree_model <- rpart(y ~ ., data = Train, method = \"class\", \n",
    "                    control = rpart.control(minsplit = 20, maxdepth = 30, cp = 0.01),\n",
    "                    weights = class_weights)\n",
    "\n",
    "library(rpart.plot)\n",
    "rpart.plot(tree_model)"
   ]
  },
  {
   "cell_type": "code",
   "execution_count": 6,
   "id": "7123be",
   "metadata": {
    "collapsed": false
   },
   "outputs": [
    {
     "name": "stderr",
     "output_type": "stream",
     "text": [
      "Loading required package: ggplot2\n",
      "\n"
     ]
    },
    {
     "name": "stderr",
     "output_type": "stream",
     "text": [
      "Loading required package: lattice\n",
      "\n"
     ]
    },
    {
     "data": {
      "text/plain": [
       "Confusion Matrix and Statistics\n",
       "\n",
       "          Reference\n",
       "Prediction   no  yes\n",
       "       no  6176   80\n",
       "       yes 1187  795\n",
       "                                          \n",
       "               Accuracy : 0.8462          \n",
       "                 95% CI : (0.8382, 0.8539)\n",
       "    No Information Rate : 0.8938          \n",
       "    P-Value [Acc > NIR] : 1               \n",
       "                                          \n",
       "                  Kappa : 0.4799          \n",
       "                                          \n",
       " Mcnemar's Test P-Value : <2e-16          \n",
       "                                          \n",
       "            Sensitivity : 0.8388          \n",
       "            Specificity : 0.9086          \n",
       "         Pos Pred Value : 0.9872          \n",
       "         Neg Pred Value : 0.4011          \n",
       "             Prevalence : 0.8938          \n",
       "         Detection Rate : 0.7497          \n",
       "   Detection Prevalence : 0.7594          \n",
       "      Balanced Accuracy : 0.8737          \n",
       "                                          \n",
       "       'Positive' Class : no              \n",
       "                                          "
      ]
     },
     "execution_count": 6,
     "metadata": {
     },
     "output_type": "execute_result"
    }
   ],
   "source": [
    "# Evaluating the model\n",
    "predictions <- predict(tree_model, Val, type = \"class\")\n",
    "library(caret)\n",
    "confusionMatrix(predictions, Val$y)"
   ]
  }
 ],
 "metadata": {
  "kernelspec": {
   "argv": [
    "/usr/bin/R",
    "-e",
    "IRkernel::main()",
    "--args",
    "{connection_file}"
   ],
   "display_name": "R (system-wide)",
   "env": {
   },
   "language": "r",
   "metadata": {
    "cocalc": {
     "description": "R statistical programming language",
     "priority": 10,
     "url": "https://www.r-project.org/"
    }
   },
   "name": "ir",
   "resource_dir": "/ext/jupyter/kernels/ir"
  },
  "language_info": {
   "codemirror_mode": "r",
   "file_extension": ".r",
   "mimetype": "text/x-r-source",
   "name": "R",
   "pygments_lexer": "r",
   "version": "4.4.2"
  }
 },
 "nbformat": 4,
 "nbformat_minor": 4
}